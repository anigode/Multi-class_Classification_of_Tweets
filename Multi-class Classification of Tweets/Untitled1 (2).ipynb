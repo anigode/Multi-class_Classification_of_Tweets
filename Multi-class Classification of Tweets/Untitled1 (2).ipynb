{
 "cells": [
  {
   "cell_type": "markdown",
   "id": "c75aa0ed",
   "metadata": {},
   "source": [
    "# import library "
   ]
  },
  {
   "cell_type": "code",
   "execution_count": 1,
   "id": "4fbb4ab8",
   "metadata": {},
   "outputs": [
    {
     "name": "stdout",
     "output_type": "stream",
     "text": [
      "showing info https://raw.githubusercontent.com/nltk/nltk_data/gh-pages/index.xml\n"
     ]
    }
   ],
   "source": [
    "import pandas as pd\n",
    "import numpy as np\n",
    "import json\n",
    "import seaborn as sns\n",
    "import matplotlib.pyplot as plt\n",
    "import string\n",
    "# nltk tools \n",
    "import nltk\n",
    "nltk.download()\n",
    "from nltk.stem import WordNetLemmatizer\n",
    "from nltk.corpus import stopwords\n",
    "# sklearn tools\n",
    "from sklearn.svm import LinearSVC\n",
    "from sklearn.linear_model import LogisticRegression\n",
    "from sklearn.model_selection import train_test_split\n",
    "from sklearn.feature_extraction.text import TfidfVectorizer\n",
    "from sklearn.metrics import confusion_matrix, classification_report, accuracy_score"
   ]
  },
  {
   "cell_type": "code",
   "execution_count": 2,
   "id": "70f092c4",
   "metadata": {},
   "outputs": [],
   "source": [
    "with open('C:/Users/Aniket/Downloads/CETM47-22_23-AS2-Data.json') as json_file:\n",
    "    json_data = json.load(json_file)"
   ]
  },
  {
   "cell_type": "code",
   "execution_count": 3,
   "id": "2d59cba0",
   "metadata": {},
   "outputs": [
    {
     "name": "stdout",
     "output_type": "stream",
     "text": [
      "                                                   text       date  label  \\\n",
      "0     The {@Clinton LumberKings@} beat the {@Cedar R... 2019-09-08      4   \n",
      "1     I would rather hear Eli Gold announce this Aub... 2019-09-08      4   \n",
      "2     Someone take my phone away, I’m trying to not ... 2019-09-08      4   \n",
      "3     A year ago, Louisville struggled to beat an FC... 2019-09-08      4   \n",
      "4     Anyone know why the #Dodgers #Orioles game nex... 2019-09-08      4   \n",
      "...                                                 ...        ...    ...   \n",
      "6438  Praying for {{USERNAME}} family friends riding... 2021-08-29      3   \n",
      "6439  Etsy: {{USERNAME}} Hi there, I m sorry to hear... 2021-08-29      1   \n",
      "6440  Imagine how hard it is to be a Teume. Everyone... 2021-08-29      2   \n",
      "6441  Ride With Me - Mental Health Awareness Charity... 2021-08-29      2   \n",
      "6442  Prediction: The future of CX in {@McKinsey Com... 2021-08-29      1   \n",
      "\n",
      "                       id                label_name  \n",
      "0     1170516324419866624           sports_&_gaming  \n",
      "1     1170516440690176006           sports_&_gaming  \n",
      "2     1170516543387709440           sports_&_gaming  \n",
      "3     1170516620466429953           sports_&_gaming  \n",
      "4     1170516711411310592           sports_&_gaming  \n",
      "...                   ...                       ...  \n",
      "6438  1431979856120762370                daily_life  \n",
      "6439  1432008666018942977  business_&_entrepreneurs  \n",
      "6440  1432008666803097606               pop_culture  \n",
      "6441  1432069101753491456               pop_culture  \n",
      "6442  1432099700614774784  business_&_entrepreneurs  \n",
      "\n",
      "[6443 rows x 5 columns]\n"
     ]
    }
   ],
   "source": [
    " df=pd.read_json('C:/Users/Aniket/Downloads/CETM47-22_23-AS2-Data.json')\n",
    "print(df)"
   ]
  },
  {
   "cell_type": "code",
   "execution_count": 4,
   "id": "c72cbbca",
   "metadata": {},
   "outputs": [
    {
     "name": "stdout",
     "output_type": "stream",
     "text": [
      "6443\n"
     ]
    }
   ],
   "source": [
    "print(len(df))"
   ]
  },
  {
   "cell_type": "code",
   "execution_count": 5,
   "id": "2b723653",
   "metadata": {},
   "outputs": [
    {
     "data": {
      "text/plain": [
       "(6443, 5)"
      ]
     },
     "execution_count": 5,
     "metadata": {},
     "output_type": "execute_result"
    }
   ],
   "source": [
    "df.shape"
   ]
  },
  {
   "cell_type": "code",
   "execution_count": 6,
   "id": "5fcdf639",
   "metadata": {},
   "outputs": [
    {
     "data": {
      "text/plain": [
       "Index(['text', 'date', 'label', 'id', 'label_name'], dtype='object')"
      ]
     },
     "execution_count": 6,
     "metadata": {},
     "output_type": "execute_result"
    }
   ],
   "source": [
    "df.columns"
   ]
  },
  {
   "cell_type": "code",
   "execution_count": 7,
   "id": "fd9ce9f1",
   "metadata": {},
   "outputs": [
    {
     "data": {
      "text/html": [
       "<div>\n",
       "<style scoped>\n",
       "    .dataframe tbody tr th:only-of-type {\n",
       "        vertical-align: middle;\n",
       "    }\n",
       "\n",
       "    .dataframe tbody tr th {\n",
       "        vertical-align: top;\n",
       "    }\n",
       "\n",
       "    .dataframe thead th {\n",
       "        text-align: right;\n",
       "    }\n",
       "</style>\n",
       "<table border=\"1\" class=\"dataframe\">\n",
       "  <thead>\n",
       "    <tr style=\"text-align: right;\">\n",
       "      <th></th>\n",
       "      <th>text</th>\n",
       "      <th>date</th>\n",
       "      <th>label</th>\n",
       "      <th>id</th>\n",
       "      <th>label_name</th>\n",
       "    </tr>\n",
       "  </thead>\n",
       "  <tbody>\n",
       "    <tr>\n",
       "      <th>0</th>\n",
       "      <td>The {@Clinton LumberKings@} beat the {@Cedar R...</td>\n",
       "      <td>2019-09-08</td>\n",
       "      <td>4</td>\n",
       "      <td>1170516324419866624</td>\n",
       "      <td>sports_&amp;_gaming</td>\n",
       "    </tr>\n",
       "    <tr>\n",
       "      <th>1</th>\n",
       "      <td>I would rather hear Eli Gold announce this Aub...</td>\n",
       "      <td>2019-09-08</td>\n",
       "      <td>4</td>\n",
       "      <td>1170516440690176006</td>\n",
       "      <td>sports_&amp;_gaming</td>\n",
       "    </tr>\n",
       "    <tr>\n",
       "      <th>2</th>\n",
       "      <td>Someone take my phone away, I’m trying to not ...</td>\n",
       "      <td>2019-09-08</td>\n",
       "      <td>4</td>\n",
       "      <td>1170516543387709440</td>\n",
       "      <td>sports_&amp;_gaming</td>\n",
       "    </tr>\n",
       "    <tr>\n",
       "      <th>3</th>\n",
       "      <td>A year ago, Louisville struggled to beat an FC...</td>\n",
       "      <td>2019-09-08</td>\n",
       "      <td>4</td>\n",
       "      <td>1170516620466429953</td>\n",
       "      <td>sports_&amp;_gaming</td>\n",
       "    </tr>\n",
       "    <tr>\n",
       "      <th>4</th>\n",
       "      <td>Anyone know why the #Dodgers #Orioles game nex...</td>\n",
       "      <td>2019-09-08</td>\n",
       "      <td>4</td>\n",
       "      <td>1170516711411310592</td>\n",
       "      <td>sports_&amp;_gaming</td>\n",
       "    </tr>\n",
       "  </tbody>\n",
       "</table>\n",
       "</div>"
      ],
      "text/plain": [
       "                                                text       date  label  \\\n",
       "0  The {@Clinton LumberKings@} beat the {@Cedar R... 2019-09-08      4   \n",
       "1  I would rather hear Eli Gold announce this Aub... 2019-09-08      4   \n",
       "2  Someone take my phone away, I’m trying to not ... 2019-09-08      4   \n",
       "3  A year ago, Louisville struggled to beat an FC... 2019-09-08      4   \n",
       "4  Anyone know why the #Dodgers #Orioles game nex... 2019-09-08      4   \n",
       "\n",
       "                    id       label_name  \n",
       "0  1170516324419866624  sports_&_gaming  \n",
       "1  1170516440690176006  sports_&_gaming  \n",
       "2  1170516543387709440  sports_&_gaming  \n",
       "3  1170516620466429953  sports_&_gaming  \n",
       "4  1170516711411310592  sports_&_gaming  "
      ]
     },
     "execution_count": 7,
     "metadata": {},
     "output_type": "execute_result"
    }
   ],
   "source": [
    "df.head()"
   ]
  },
  {
   "cell_type": "code",
   "execution_count": 8,
   "id": "cb4a1348",
   "metadata": {},
   "outputs": [
    {
     "data": {
      "text/html": [
       "<div>\n",
       "<style scoped>\n",
       "    .dataframe tbody tr th:only-of-type {\n",
       "        vertical-align: middle;\n",
       "    }\n",
       "\n",
       "    .dataframe tbody tr th {\n",
       "        vertical-align: top;\n",
       "    }\n",
       "\n",
       "    .dataframe thead th {\n",
       "        text-align: right;\n",
       "    }\n",
       "</style>\n",
       "<table border=\"1\" class=\"dataframe\">\n",
       "  <thead>\n",
       "    <tr style=\"text-align: right;\">\n",
       "      <th></th>\n",
       "      <th>counts</th>\n",
       "    </tr>\n",
       "    <tr>\n",
       "      <th>label_name</th>\n",
       "      <th></th>\n",
       "    </tr>\n",
       "  </thead>\n",
       "  <tbody>\n",
       "    <tr>\n",
       "      <th>pop_culture</th>\n",
       "      <td>2512</td>\n",
       "    </tr>\n",
       "    <tr>\n",
       "      <th>sports_&amp;_gaming</th>\n",
       "      <td>2291</td>\n",
       "    </tr>\n",
       "    <tr>\n",
       "      <th>daily_life</th>\n",
       "      <td>883</td>\n",
       "    </tr>\n",
       "    <tr>\n",
       "      <th>science_&amp;_technology</th>\n",
       "      <td>326</td>\n",
       "    </tr>\n",
       "    <tr>\n",
       "      <th>business_&amp;_entrepreneurs</th>\n",
       "      <td>287</td>\n",
       "    </tr>\n",
       "    <tr>\n",
       "      <th>arts_&amp;_culture</th>\n",
       "      <td>144</td>\n",
       "    </tr>\n",
       "  </tbody>\n",
       "</table>\n",
       "</div>"
      ],
      "text/plain": [
       "                          counts\n",
       "label_name                      \n",
       "pop_culture                 2512\n",
       "sports_&_gaming             2291\n",
       "daily_life                   883\n",
       "science_&_technology         326\n",
       "business_&_entrepreneurs     287\n",
       "arts_&_culture               144"
      ]
     },
     "execution_count": 8,
     "metadata": {},
     "output_type": "execute_result"
    }
   ],
   "source": [
    "pd.DataFrame(df.groupby('label_name').size().rename('counts')).sort_values('counts', ascending=False)"
   ]
  },
  {
   "cell_type": "code",
   "execution_count": 9,
   "id": "0a313526",
   "metadata": {},
   "outputs": [
    {
     "data": {
      "text/html": [
       "<div>\n",
       "<style scoped>\n",
       "    .dataframe tbody tr th:only-of-type {\n",
       "        vertical-align: middle;\n",
       "    }\n",
       "\n",
       "    .dataframe tbody tr th {\n",
       "        vertical-align: top;\n",
       "    }\n",
       "\n",
       "    .dataframe thead th {\n",
       "        text-align: right;\n",
       "    }\n",
       "</style>\n",
       "<table border=\"1\" class=\"dataframe\">\n",
       "  <thead>\n",
       "    <tr style=\"text-align: right;\">\n",
       "      <th></th>\n",
       "      <th>counts</th>\n",
       "    </tr>\n",
       "    <tr>\n",
       "      <th>id</th>\n",
       "      <th></th>\n",
       "    </tr>\n",
       "  </thead>\n",
       "  <tbody>\n",
       "    <tr>\n",
       "      <th>1170516324419866624</th>\n",
       "      <td>1</td>\n",
       "    </tr>\n",
       "    <tr>\n",
       "      <th>1345609630421032961</th>\n",
       "      <td>1</td>\n",
       "    </tr>\n",
       "    <tr>\n",
       "      <th>1345760550442172420</th>\n",
       "      <td>1</td>\n",
       "    </tr>\n",
       "    <tr>\n",
       "      <th>1345759656917037062</th>\n",
       "      <td>1</td>\n",
       "    </tr>\n",
       "    <tr>\n",
       "      <th>1345727289162514433</th>\n",
       "      <td>1</td>\n",
       "    </tr>\n",
       "    <tr>\n",
       "      <th>...</th>\n",
       "      <td>...</td>\n",
       "    </tr>\n",
       "    <tr>\n",
       "      <th>1246920060624687106</th>\n",
       "      <td>1</td>\n",
       "    </tr>\n",
       "    <tr>\n",
       "      <th>1246917267444490240</th>\n",
       "      <td>1</td>\n",
       "    </tr>\n",
       "    <tr>\n",
       "      <th>1246916874987655169</th>\n",
       "      <td>1</td>\n",
       "    </tr>\n",
       "    <tr>\n",
       "      <th>1246916390608670722</th>\n",
       "      <td>1</td>\n",
       "    </tr>\n",
       "    <tr>\n",
       "      <th>1432129310480011265</th>\n",
       "      <td>1</td>\n",
       "    </tr>\n",
       "  </tbody>\n",
       "</table>\n",
       "<p>6443 rows × 1 columns</p>\n",
       "</div>"
      ],
      "text/plain": [
       "                     counts\n",
       "id                         \n",
       "1170516324419866624       1\n",
       "1345609630421032961       1\n",
       "1345760550442172420       1\n",
       "1345759656917037062       1\n",
       "1345727289162514433       1\n",
       "...                     ...\n",
       "1246920060624687106       1\n",
       "1246917267444490240       1\n",
       "1246916874987655169       1\n",
       "1246916390608670722       1\n",
       "1432129310480011265       1\n",
       "\n",
       "[6443 rows x 1 columns]"
      ]
     },
     "execution_count": 9,
     "metadata": {},
     "output_type": "execute_result"
    }
   ],
   "source": [
    "pd.DataFrame(df.groupby('id').size().rename('counts')).sort_values('counts', ascending=False)"
   ]
  },
  {
   "cell_type": "code",
   "execution_count": 10,
   "id": "d6909a75",
   "metadata": {},
   "outputs": [
    {
     "data": {
      "text/html": [
       "<div>\n",
       "<style scoped>\n",
       "    .dataframe tbody tr th:only-of-type {\n",
       "        vertical-align: middle;\n",
       "    }\n",
       "\n",
       "    .dataframe tbody tr th {\n",
       "        vertical-align: top;\n",
       "    }\n",
       "\n",
       "    .dataframe thead th {\n",
       "        text-align: right;\n",
       "    }\n",
       "</style>\n",
       "<table border=\"1\" class=\"dataframe\">\n",
       "  <thead>\n",
       "    <tr style=\"text-align: right;\">\n",
       "      <th></th>\n",
       "      <th>counts</th>\n",
       "    </tr>\n",
       "    <tr>\n",
       "      <th>text</th>\n",
       "      <th></th>\n",
       "    </tr>\n",
       "  </thead>\n",
       "  <tbody>\n",
       "    <tr>\n",
       "      <th>I just earned the  The Dark Side (Level 2)  badge on {{USERNAME}} ! {{URL}}</th>\n",
       "      <td>2</td>\n",
       "    </tr>\n",
       "    <tr>\n",
       "      <th>{@Oprah Winfrey@} absolutely remains the queen of TV interviews, it s awesome. I ve been covering her for years and I forgot how great she is.  {@David Zurawik@} , reflecting on The Interview, on {@Reliable Sources@} .</th>\n",
       "      <td>1</td>\n",
       "    </tr>\n",
       "    <tr>\n",
       "      <th>Really intrigued by who wins this #DALvsLAC game  I think {@Luka Doncic@} is one of the future faces of the League, I just dont know if he s got the help he needs right now  I would also love to be able to talk about  Kawhi being the King of LA for another couple weeks #NBAPlayoffs</th>\n",
       "      <td>1</td>\n",
       "    </tr>\n",
       "    <tr>\n",
       "      <th>Red Knights hold on to defeat Harrisburg by a score of 71-66. Tough week for the Red Knights, but a huge bounce back win tonight ends the 3 games in 4 days at 2 and 1. Stay safe all! #RSDproud #ThankfulForTheOpportunity {{USERNAME}} {{USERNAME}} {{USERNAME}} {{USERNAME}}</th>\n",
       "      <td>1</td>\n",
       "    </tr>\n",
       "    <tr>\n",
       "      <th>Red Hot {@Red Hot ChiliPeppers@} , Patti Smith and more are set to participate in the #PathwayToParis Earth Day livestream concert. See the full lineup below! {{URL}}</th>\n",
       "      <td>1</td>\n",
       "    </tr>\n",
       "    <tr>\n",
       "      <th>...</th>\n",
       "      <td>...</td>\n",
       "    </tr>\n",
       "    <tr>\n",
       "      <th>Great result dug that out was never going to be pretty and fair play to {@Burnley FC@} played well but we got over the line pleased Pablo got some time as well, some breathing space now and chance to hopefully go on a run well done {@Leeds United@}</th>\n",
       "      <td>1</td>\n",
       "    </tr>\n",
       "    <tr>\n",
       "      <th>Great question by {@Hannah Keyser@} : did Manfred look into sign-stealing accusations before this year?  Commish said yes, but no evidence found!</th>\n",
       "      <td>1</td>\n",
       "    </tr>\n",
       "    <tr>\n",
       "      <th>Great night with great friends supporting {@United Way of New York City@} @ The Jane {{URL}}</th>\n",
       "      <td>1</td>\n",
       "    </tr>\n",
       "    <tr>\n",
       "      <th>Great night of fights from {@UFC@} , straight over to {@BellatorMMA@} with a wild performance from {{USERNAME}} !</th>\n",
       "      <td>1</td>\n",
       "    </tr>\n",
       "    <tr>\n",
       "      <th>￼Morning jog, going up the wall, migraines are being returned back home￼ {{URL}} via {@facebookwatch@}</th>\n",
       "      <td>1</td>\n",
       "    </tr>\n",
       "  </tbody>\n",
       "</table>\n",
       "<p>6442 rows × 1 columns</p>\n",
       "</div>"
      ],
      "text/plain": [
       "                                                    counts\n",
       "text                                                      \n",
       "I just earned the  The Dark Side (Level 2)  bad...       2\n",
       "  {@Oprah Winfrey@} absolutely remains the quee...       1\n",
       "Really intrigued by who wins this #DALvsLAC gam...       1\n",
       "Red Knights hold on to defeat Harrisburg by a s...       1\n",
       "Red Hot {@Red Hot ChiliPeppers@} , Patti Smith ...       1\n",
       "...                                                    ...\n",
       "Great result dug that out was never going to be...       1\n",
       "Great question by {@Hannah Keyser@} : did Manfr...       1\n",
       "Great night with great friends supporting {@Uni...       1\n",
       "Great night of fights from {@UFC@} , straight o...       1\n",
       "￼Morning jog, going up the wall, migraines are ...       1\n",
       "\n",
       "[6442 rows x 1 columns]"
      ]
     },
     "execution_count": 10,
     "metadata": {},
     "output_type": "execute_result"
    }
   ],
   "source": [
    "pd.DataFrame(df.groupby('text').size().rename('counts')).sort_values('counts', ascending=False)"
   ]
  },
  {
   "cell_type": "code",
   "execution_count": 11,
   "id": "da03080f",
   "metadata": {},
   "outputs": [
    {
     "name": "stdout",
     "output_type": "stream",
     "text": [
      "<class 'pandas.core.frame.DataFrame'>\n",
      "RangeIndex: 6443 entries, 0 to 6442\n",
      "Data columns (total 5 columns):\n",
      " #   Column      Non-Null Count  Dtype         \n",
      "---  ------      --------------  -----         \n",
      " 0   text        6443 non-null   object        \n",
      " 1   date        6443 non-null   datetime64[ns]\n",
      " 2   label       6443 non-null   int64         \n",
      " 3   id          6443 non-null   int64         \n",
      " 4   label_name  6443 non-null   object        \n",
      "dtypes: datetime64[ns](1), int64(2), object(2)\n",
      "memory usage: 251.8+ KB\n"
     ]
    }
   ],
   "source": [
    "df.info()"
   ]
  },
  {
   "cell_type": "code",
   "execution_count": 12,
   "id": "24883499",
   "metadata": {},
   "outputs": [
    {
     "data": {
      "text/plain": [
       "text                  object\n",
       "date          datetime64[ns]\n",
       "label                  int64\n",
       "id                     int64\n",
       "label_name            object\n",
       "dtype: object"
      ]
     },
     "execution_count": 12,
     "metadata": {},
     "output_type": "execute_result"
    }
   ],
   "source": [
    "df.dtypes"
   ]
  },
  {
   "cell_type": "markdown",
   "id": "b5d68be4",
   "metadata": {},
   "source": [
    "# Dealing with missing values"
   ]
  },
  {
   "cell_type": "code",
   "execution_count": 13,
   "id": "249a9ca7",
   "metadata": {},
   "outputs": [
    {
     "data": {
      "text/plain": [
       "0"
      ]
     },
     "execution_count": 13,
     "metadata": {},
     "output_type": "execute_result"
    }
   ],
   "source": [
    "np.sum(df.isnull().any(axis=1))"
   ]
  },
  {
   "cell_type": "code",
   "execution_count": 14,
   "id": "b90825d8",
   "metadata": {},
   "outputs": [
    {
     "name": "stdout",
     "output_type": "stream",
     "text": [
      "Count of columns in the data is:   5\n",
      "Count of rows in the data is:   6443\n"
     ]
    }
   ],
   "source": [
    "print('Count of columns in the data is:  ', len(df.columns))\n",
    "print('Count of rows in the data is:  ', len(df))"
   ]
  },
  {
   "cell_type": "code",
   "execution_count": 15,
   "id": "fba4a736",
   "metadata": {},
   "outputs": [
    {
     "data": {
      "text/plain": [
       "array([4, 2, 3, 1, 5, 0], dtype=int64)"
      ]
     },
     "execution_count": 15,
     "metadata": {},
     "output_type": "execute_result"
    }
   ],
   "source": [
    "df['label'].unique()"
   ]
  },
  {
   "cell_type": "code",
   "execution_count": 16,
   "id": "689c1f7f",
   "metadata": {},
   "outputs": [
    {
     "data": {
      "text/plain": [
       "6"
      ]
     },
     "execution_count": 16,
     "metadata": {},
     "output_type": "execute_result"
    }
   ],
   "source": [
    "df['label'].nunique()"
   ]
  },
  {
   "cell_type": "code",
   "execution_count": 17,
   "id": "98a2d69e",
   "metadata": {},
   "outputs": [
    {
     "data": {
      "text/plain": [
       "Text(0, 0.5, 'Value Count')"
      ]
     },
     "execution_count": 17,
     "metadata": {},
     "output_type": "execute_result"
    },
    {
     "data": {
      "image/png": "[encoded data removed]",
      "text/plain": [
       "<Figure size 640x480 with 1 Axes>"
      ]
     },
     "metadata": {},
     "output_type": "display_data"
    }
   ],
   "source": [
    "ax =df.groupby('label_name').count().plot(kind ='bar', title ='Distributio of Data')\n",
    "plt.ylabel('Value Count')"
   ]
  },
  {
   "cell_type": "code",
   "execution_count": 18,
   "id": "c60989ee",
   "metadata": {},
   "outputs": [
    {
     "data": {
      "text/plain": [
       "<Axes: xlabel='label', ylabel='count'>"
      ]
     },
     "execution_count": 18,
     "metadata": {},
     "output_type": "execute_result"
    },
    {
     "data": {
      "image/png": "[encoded data removed]",
      "text/plain": [
       "<Figure size 640x480 with 1 Axes>"
      ]
     },
     "metadata": {},
     "output_type": "display_data"
    }
   ],
   "source": [
    "import seaborn as sns\n",
    "sns.countplot(x='label', data=df)"
   ]
  },
  {
   "cell_type": "markdown",
   "id": "28e26bc4",
   "metadata": {},
   "source": [
    "# Pre-processing Data"
   ]
  },
  {
   "cell_type": "markdown",
   "id": "9615b016",
   "metadata": {},
   "source": [
    "# using stop words"
   ]
  },
  {
   "cell_type": "code",
   "execution_count": 19,
   "id": "249b0ed4",
   "metadata": {},
   "outputs": [],
   "source": [
    "from nltk.corpus import stopwords\n",
    "df['text']=df['text'].str.lower()"
   ]
  },
  {
   "cell_type": "code",
   "execution_count": 20,
   "id": "a0f8f796",
   "metadata": {},
   "outputs": [],
   "source": [
    "stopwords_list = stopwords.words('english')"
   ]
  },
  {
   "cell_type": "code",
   "execution_count": 21,
   "id": "723d460f",
   "metadata": {},
   "outputs": [
    {
     "data": {
      "text/plain": [
       "\"i, me, my, myself, we, our, ours, ourselves, you, you're, you've, you'll, you'd, your, yours, yourself, yourselves, he, him, his, himself, she, she's, her, hers, herself, it, it's, its, itself, they, them, their, theirs, themselves, what, which, who, whom, this, that, that'll, these, those, am, is, are, was, were, be, been, being, have, has, had, having, do, does, did, doing, a, an, the, and, but, if, or, because, as, until, while, of, at, by, for, with, about, against, between, into, through, during, before, after, above, below, to, from, up, down, in, out, on, off, over, under, again, further, then, once, here, there, when, where, why, how, all, any, both, each, few, more, most, other, some, such, no, nor, not, only, own, same, so, than, too, very, s, t, can, will, just, don, don't, should, should've, now, d, ll, m, o, re, ve, y, ain, aren, aren't, couldn, couldn't, didn, didn't, doesn, doesn't, hadn, hadn't, hasn, hasn't, haven, haven't, isn, isn't, ma, mightn, mightn't, mustn, mustn't, needn, needn't, shan, shan't, shouldn, shouldn't, wasn, wasn't, weren, weren't, won, won't, wouldn, wouldn't\""
      ]
     },
     "execution_count": 21,
     "metadata": {},
     "output_type": "execute_result"
    }
   ],
   "source": [
    "from nltk.corpus import stopwords\n",
    "\", \".join(stopwords.words('english'))"
   ]
  },
  {
   "cell_type": "code",
   "execution_count": 22,
   "id": "cb6d040c",
   "metadata": {},
   "outputs": [
    {
     "data": {
      "text/plain": [
       "0    {@clinton lumberkings@} beat {@cedar rapids ke...\n",
       "1    would rather hear eli gold announce auburn gam...\n",
       "2    someone take phone away, i’m trying look {@chi...\n",
       "3    year ago, louisville struggled beat fcs oppone...\n",
       "4    anyone know #dodgers #orioles game next thursd...\n",
       "Name: text, dtype: object"
      ]
     },
     "execution_count": 22,
     "metadata": {},
     "output_type": "execute_result"
    }
   ],
   "source": [
    "STOPWORDS = set(stopwords.words('english'))\n",
    "def cleaning_stopwords(text):\n",
    "    return \" \".join([word for word in str(text).split() if word not in STOPWORDS])\n",
    "df['text'] = df['text'].apply(lambda text: cleaning_stopwords(text))\n",
    "df['text'].head()"
   ]
  },
  {
   "cell_type": "code",
   "execution_count": 23,
   "id": "fbeb7194",
   "metadata": {},
   "outputs": [],
   "source": [
    "english_punctuations = string.punctuation\n",
    "punctuations_list = english_punctuations\n",
    "def cleaning_punctuations(text):\n",
    "    translator = str.maketrans('', '', punctuations_list)\n",
    "    return text.translate(translator)"
   ]
  },
  {
   "cell_type": "code",
   "execution_count": 24,
   "id": "f3a3f7c4",
   "metadata": {},
   "outputs": [
    {
     "data": {
      "text/plain": [
       "6438    praying username family friends riding ida saf...\n",
       "6439    etsy username hi there sorry hear account clos...\n",
       "6440    imagine hard teume everyone us look us fightin...\n",
       "6441    ride  mental health awareness charity cycle ri...\n",
       "6442    prediction future cx mckinsey company quarterl...\n",
       "Name: text, dtype: object"
      ]
     },
     "execution_count": 24,
     "metadata": {},
     "output_type": "execute_result"
    }
   ],
   "source": [
    "df['text']= df['text'].apply(lambda x: cleaning_punctuations(x))\n",
    "df['text'].tail()"
   ]
  },
  {
   "cell_type": "markdown",
   "id": "2ffcfd0f",
   "metadata": {},
   "source": [
    "# Using Stemming"
   ]
  },
  {
   "cell_type": "code",
   "execution_count": 25,
   "id": "8af1e8fe",
   "metadata": {},
   "outputs": [],
   "source": [
    "st = nltk.PorterStemmer()\n",
    "def stemming_on_text(df):\n",
    "    text = [st.stem(word) for word in df]\n",
    "    return df\n",
    "\n",
    "df['text']= df['text'].apply(lambda x: stemming_on_text(x))"
   ]
  },
  {
   "cell_type": "code",
   "execution_count": 26,
   "id": "1559ae7a",
   "metadata": {},
   "outputs": [
    {
     "data": {
      "text/plain": [
       "0    clinton lumberkings beat cedar rapids kernels ...\n",
       "1    would rather hear eli gold announce auburn gam...\n",
       "2    someone take phone away i’m trying look chicag...\n",
       "3    year ago louisville struggled beat fcs opponen...\n",
       "4    anyone know dodgers orioles game next thursday...\n",
       "Name: text, dtype: object"
      ]
     },
     "execution_count": 26,
     "metadata": {},
     "output_type": "execute_result"
    }
   ],
   "source": [
    "df['text'].head()"
   ]
  },
  {
   "cell_type": "markdown",
   "id": "f3e0f083",
   "metadata": {},
   "source": [
    "# Using Lemmatization"
   ]
  },
  {
   "cell_type": "code",
   "execution_count": 27,
   "id": "16e5aaa5",
   "metadata": {},
   "outputs": [],
   "source": [
    "lm = nltk.WordNetLemmatizer()\n",
    "def lemmatizer_on_text(df):\n",
    "    text = [lm.lemmatize(word) for word in df]\n",
    "    return df\n",
    "\n",
    "df['text'] = df['text'].apply(lambda x: lemmatizer_on_text(x))"
   ]
  },
  {
   "cell_type": "code",
   "execution_count": 28,
   "id": "eefa3a82",
   "metadata": {},
   "outputs": [
    {
     "data": {
      "text/plain": [
       "0    clinton lumberkings beat cedar rapids kernels ...\n",
       "1    would rather hear eli gold announce auburn gam...\n",
       "2    someone take phone away i’m trying look chicag...\n",
       "3    year ago louisville struggled beat fcs opponen...\n",
       "4    anyone know dodgers orioles game next thursday...\n",
       "Name: text, dtype: object"
      ]
     },
     "execution_count": 28,
     "metadata": {},
     "output_type": "execute_result"
    }
   ],
   "source": [
    "df['text'].head()"
   ]
  },
  {
   "cell_type": "code",
   "execution_count": 29,
   "id": "7fca0dec",
   "metadata": {},
   "outputs": [
    {
     "data": {
      "text/html": [
       "<div>\n",
       "<style scoped>\n",
       "    .dataframe tbody tr th:only-of-type {\n",
       "        vertical-align: middle;\n",
       "    }\n",
       "\n",
       "    .dataframe tbody tr th {\n",
       "        vertical-align: top;\n",
       "    }\n",
       "\n",
       "    .dataframe thead th {\n",
       "        text-align: right;\n",
       "    }\n",
       "</style>\n",
       "<table border=\"1\" class=\"dataframe\">\n",
       "  <thead>\n",
       "    <tr style=\"text-align: right;\">\n",
       "      <th></th>\n",
       "      <th>text</th>\n",
       "      <th>date</th>\n",
       "      <th>label</th>\n",
       "      <th>id</th>\n",
       "      <th>label_name</th>\n",
       "    </tr>\n",
       "  </thead>\n",
       "  <tbody>\n",
       "    <tr>\n",
       "      <th>0</th>\n",
       "      <td>clinton lumberkings beat cedar rapids kernels ...</td>\n",
       "      <td>2019-09-08</td>\n",
       "      <td>4</td>\n",
       "      <td>1170516324419866624</td>\n",
       "      <td>sports_&amp;_gaming</td>\n",
       "    </tr>\n",
       "    <tr>\n",
       "      <th>1</th>\n",
       "      <td>would rather hear eli gold announce auburn gam...</td>\n",
       "      <td>2019-09-08</td>\n",
       "      <td>4</td>\n",
       "      <td>1170516440690176006</td>\n",
       "      <td>sports_&amp;_gaming</td>\n",
       "    </tr>\n",
       "    <tr>\n",
       "      <th>2</th>\n",
       "      <td>someone take phone away i’m trying look chicag...</td>\n",
       "      <td>2019-09-08</td>\n",
       "      <td>4</td>\n",
       "      <td>1170516543387709440</td>\n",
       "      <td>sports_&amp;_gaming</td>\n",
       "    </tr>\n",
       "    <tr>\n",
       "      <th>3</th>\n",
       "      <td>year ago louisville struggled beat fcs opponen...</td>\n",
       "      <td>2019-09-08</td>\n",
       "      <td>4</td>\n",
       "      <td>1170516620466429953</td>\n",
       "      <td>sports_&amp;_gaming</td>\n",
       "    </tr>\n",
       "    <tr>\n",
       "      <th>4</th>\n",
       "      <td>anyone know dodgers orioles game next thursday...</td>\n",
       "      <td>2019-09-08</td>\n",
       "      <td>4</td>\n",
       "      <td>1170516711411310592</td>\n",
       "      <td>sports_&amp;_gaming</td>\n",
       "    </tr>\n",
       "    <tr>\n",
       "      <th>...</th>\n",
       "      <td>...</td>\n",
       "      <td>...</td>\n",
       "      <td>...</td>\n",
       "      <td>...</td>\n",
       "      <td>...</td>\n",
       "    </tr>\n",
       "    <tr>\n",
       "      <th>6438</th>\n",
       "      <td>praying username family friends riding ida saf...</td>\n",
       "      <td>2021-08-29</td>\n",
       "      <td>3</td>\n",
       "      <td>1431979856120762370</td>\n",
       "      <td>daily_life</td>\n",
       "    </tr>\n",
       "    <tr>\n",
       "      <th>6439</th>\n",
       "      <td>etsy username hi there sorry hear account clos...</td>\n",
       "      <td>2021-08-29</td>\n",
       "      <td>1</td>\n",
       "      <td>1432008666018942977</td>\n",
       "      <td>business_&amp;_entrepreneurs</td>\n",
       "    </tr>\n",
       "    <tr>\n",
       "      <th>6440</th>\n",
       "      <td>imagine hard teume everyone us look us fightin...</td>\n",
       "      <td>2021-08-29</td>\n",
       "      <td>2</td>\n",
       "      <td>1432008666803097606</td>\n",
       "      <td>pop_culture</td>\n",
       "    </tr>\n",
       "    <tr>\n",
       "      <th>6441</th>\n",
       "      <td>ride  mental health awareness charity cycle ri...</td>\n",
       "      <td>2021-08-29</td>\n",
       "      <td>2</td>\n",
       "      <td>1432069101753491456</td>\n",
       "      <td>pop_culture</td>\n",
       "    </tr>\n",
       "    <tr>\n",
       "      <th>6442</th>\n",
       "      <td>prediction future cx mckinsey company quarterl...</td>\n",
       "      <td>2021-08-29</td>\n",
       "      <td>1</td>\n",
       "      <td>1432099700614774784</td>\n",
       "      <td>business_&amp;_entrepreneurs</td>\n",
       "    </tr>\n",
       "  </tbody>\n",
       "</table>\n",
       "<p>6443 rows × 5 columns</p>\n",
       "</div>"
      ],
      "text/plain": [
       "                                                   text       date  label  \\\n",
       "0     clinton lumberkings beat cedar rapids kernels ... 2019-09-08      4   \n",
       "1     would rather hear eli gold announce auburn gam... 2019-09-08      4   \n",
       "2     someone take phone away i’m trying look chicag... 2019-09-08      4   \n",
       "3     year ago louisville struggled beat fcs opponen... 2019-09-08      4   \n",
       "4     anyone know dodgers orioles game next thursday... 2019-09-08      4   \n",
       "...                                                 ...        ...    ...   \n",
       "6438  praying username family friends riding ida saf... 2021-08-29      3   \n",
       "6439  etsy username hi there sorry hear account clos... 2021-08-29      1   \n",
       "6440  imagine hard teume everyone us look us fightin... 2021-08-29      2   \n",
       "6441  ride  mental health awareness charity cycle ri... 2021-08-29      2   \n",
       "6442  prediction future cx mckinsey company quarterl... 2021-08-29      1   \n",
       "\n",
       "                       id                label_name  \n",
       "0     1170516324419866624           sports_&_gaming  \n",
       "1     1170516440690176006           sports_&_gaming  \n",
       "2     1170516543387709440           sports_&_gaming  \n",
       "3     1170516620466429953           sports_&_gaming  \n",
       "4     1170516711411310592           sports_&_gaming  \n",
       "...                   ...                       ...  \n",
       "6438  1431979856120762370                daily_life  \n",
       "6439  1432008666018942977  business_&_entrepreneurs  \n",
       "6440  1432008666803097606               pop_culture  \n",
       "6441  1432069101753491456               pop_culture  \n",
       "6442  1432099700614774784  business_&_entrepreneurs  \n",
       "\n",
       "[6443 rows x 5 columns]"
      ]
     },
     "execution_count": 29,
     "metadata": {},
     "output_type": "execute_result"
    }
   ],
   "source": [
    "df"
   ]
  },
  {
   "cell_type": "code",
   "execution_count": 30,
   "id": "f8397ee3",
   "metadata": {},
   "outputs": [
    {
     "data": {
      "text/plain": [
       "0    clinton lumberkings beat cedar rapids kernels ...\n",
       "1    would rather hear eli gold announce auburn gam...\n",
       "2    someone take phone away i’m trying look chicag...\n",
       "3    year ago louisville struggled beat fcs opponen...\n",
       "4    anyone know dodgers orioles game next thursday...\n",
       "Name: text, dtype: object"
      ]
     },
     "execution_count": 30,
     "metadata": {},
     "output_type": "execute_result"
    }
   ],
   "source": [
    "x= df['text']\n",
    "x.head()"
   ]
  },
  {
   "cell_type": "code",
   "execution_count": 31,
   "id": "dedecef6",
   "metadata": {},
   "outputs": [
    {
     "data": {
      "text/plain": [
       "0    4\n",
       "1    4\n",
       "2    4\n",
       "3    4\n",
       "4    4\n",
       "Name: label, dtype: int64"
      ]
     },
     "execution_count": 31,
     "metadata": {},
     "output_type": "execute_result"
    }
   ],
   "source": [
    "y= df['label']\n",
    "y.head()"
   ]
  },
  {
   "cell_type": "code",
   "execution_count": 32,
   "id": "23736aa3",
   "metadata": {},
   "outputs": [],
   "source": [
    "X = df.text.astype(str)"
   ]
  },
  {
   "cell_type": "markdown",
   "id": "d00463bd",
   "metadata": {},
   "source": [
    "# splitting Data traning= 0.7, testing 0.3"
   ]
  },
  {
   "cell_type": "code",
   "execution_count": 33,
   "id": "f9ca93e6",
   "metadata": {},
   "outputs": [],
   "source": [
    "# spliting Data for Training and Testing in two parts  \n",
    "from sklearn.model_selection import train_test_split\n",
    "X_train, X_test, y_train, y_test = train_test_split(X, y, test_size=0.3, random_state=21)"
   ]
  },
  {
   "cell_type": "code",
   "execution_count": 34,
   "id": "b48834fe",
   "metadata": {},
   "outputs": [
    {
     "data": {
      "text/plain": [
       "2089    2\n",
       "5506    5\n",
       "2773    5\n",
       "5869    2\n",
       "5847    2\n",
       "       ..\n",
       "1144    4\n",
       "48      4\n",
       "772     2\n",
       "5944    1\n",
       "5327    5\n",
       "Name: label, Length: 4510, dtype: int64"
      ]
     },
     "execution_count": 34,
     "metadata": {},
     "output_type": "execute_result"
    }
   ],
   "source": [
    "y_train"
   ]
  },
  {
   "cell_type": "markdown",
   "id": "2063d468",
   "metadata": {},
   "source": [
    "# Uni-gram for results using models "
   ]
  },
  {
   "cell_type": "code",
   "execution_count": 35,
   "id": "03d80d20",
   "metadata": {},
   "outputs": [],
   "source": [
    "#uni-gram\n",
    "from sklearn.feature_extraction.text import TfidfVectorizer\n",
    "vectorizer = TfidfVectorizer(ngram_range=(1,1))\n",
    "\n",
    "# Training data\n",
    "X_train = vectorizer.fit_transform(X_train)\n",
    "\n",
    "# Testing data\n",
    "X_test = vectorizer.transform(X_test)"
   ]
  },
  {
   "cell_type": "markdown",
   "id": "74964850",
   "metadata": {},
   "source": [
    "# Making prediction on the test set"
   ]
  },
  {
   "cell_type": "code",
   "execution_count": 36,
   "id": "08313949",
   "metadata": {},
   "outputs": [
    {
     "name": "stdout",
     "output_type": "stream",
     "text": [
      "Random Forest Result\n",
      "0.7418520434557683\n",
      "Decision Tree Result\n",
      "0.6471805483704087\n",
      "Support Vector Machine Result\n",
      "0.8132436627004656\n",
      "Logistic Regression Result\n",
      "0.7672012415933782\n"
     ]
    }
   ],
   "source": [
    "# uni-gram\n",
    "from sklearn.metrics import accuracy_score\n",
    "from sklearn.ensemble import RandomForestClassifier\n",
    "print(\"Random Forest Result\")\n",
    "rfc = RandomForestClassifier(n_estimators=100, random_state=52)\n",
    "pred = rfc.fit(X_train, y_train).predict(X_test)\n",
    "print(accuracy_score(y_test,pred))\n",
    "\n",
    "from sklearn.tree import DecisionTreeClassifier\n",
    "from sklearn.metrics import accuracy_score,classification_report\n",
    "dt = DecisionTreeClassifier(random_state=50)\n",
    "print(\"Decision Tree Result\")\n",
    "DecisionTree=dt.fit(X_train, y_train).predict(X_test)\n",
    "print(accuracy_score(y_test,DecisionTree))\n",
    "\n",
    "from sklearn.svm import SVC\n",
    "print(\"Support Vector Machine Result\")\n",
    "svm = SVC(kernel='linear', C=2.0, random_state=52)\n",
    "svm.fit(X_train,y_train)\n",
    "y_pred=svm.predict(X_test)\n",
    "print(accuracy_score(y_test,y_pred))\n",
    "\n",
    "from sklearn.linear_model import LogisticRegression\n",
    "lr=LogisticRegression()\n",
    "print(\"Logistic Regression Result\")\n",
    "logisticRegresion=lr.fit(X_train, y_train).predict(X_test)\n",
    "print(accuracy_score(y_test,logisticRegresion))\n"
   ]
  },
  {
   "cell_type": "markdown",
   "id": "dc6b1ca9",
   "metadata": {},
   "source": [
    "# Compute Classification report"
   ]
  },
  {
   "cell_type": "code",
   "execution_count": 37,
   "id": "760f24de",
   "metadata": {},
   "outputs": [
    {
     "name": "stdout",
     "output_type": "stream",
     "text": [
      "Random Forest\n",
      "              precision    recall  f1-score   support\n",
      "\n",
      "           0       0.00      0.00      0.00        31\n",
      "           1       0.58      0.18      0.28        77\n",
      "           2       0.67      0.91      0.77       749\n",
      "           3       0.76      0.40      0.53       272\n",
      "           4       0.84      0.86      0.85       706\n",
      "           5       0.76      0.27      0.39        98\n",
      "\n",
      "    accuracy                           0.74      1933\n",
      "   macro avg       0.60      0.44      0.47      1933\n",
      "weighted avg       0.74      0.74      0.71      1933\n",
      "\n",
      "Decision Tree\n",
      "              precision    recall  f1-score   support\n",
      "\n",
      "           0       0.08      0.06      0.07        31\n",
      "           1       0.29      0.19      0.23        77\n",
      "           2       0.67      0.76      0.71       749\n",
      "           3       0.43      0.43      0.43       272\n",
      "           4       0.77      0.73      0.75       706\n",
      "           5       0.51      0.35      0.41        98\n",
      "\n",
      "    accuracy                           0.65      1933\n",
      "   macro avg       0.46      0.42      0.43      1933\n",
      "weighted avg       0.64      0.65      0.64      1933\n",
      "\n",
      "Support Vector Machine\n",
      "              precision    recall  f1-score   support\n",
      "\n",
      "           0       0.55      0.19      0.29        31\n",
      "           1       0.57      0.43      0.49        77\n",
      "           2       0.81      0.87      0.84       749\n",
      "           3       0.65      0.67      0.66       272\n",
      "           4       0.91      0.92      0.91       706\n",
      "           5       0.75      0.48      0.58        98\n",
      "\n",
      "    accuracy                           0.81      1933\n",
      "   macro avg       0.70      0.59      0.63      1933\n",
      "weighted avg       0.81      0.81      0.81      1933\n",
      "\n",
      "Logistic Regression\n",
      "              precision    recall  f1-score   support\n",
      "\n",
      "           0       0.00      0.00      0.00        31\n",
      "           1       0.78      0.09      0.16        77\n",
      "           2       0.72      0.90      0.80       749\n",
      "           3       0.78      0.44      0.56       272\n",
      "           4       0.82      0.93      0.87       706\n",
      "           5       0.85      0.22      0.35        98\n",
      "\n",
      "    accuracy                           0.77      1933\n",
      "   macro avg       0.66      0.43      0.46      1933\n",
      "weighted avg       0.76      0.77      0.73      1933\n",
      "\n"
     ]
    },
    {
     "name": "stderr",
     "output_type": "stream",
     "text": [
      "C:\\Users\\Aniket\\anaconda3\\lib\\site-packages\\sklearn\\metrics\\_classification.py:1344: UndefinedMetricWarning: Precision and F-score are ill-defined and being set to 0.0 in labels with no predicted samples. Use `zero_division` parameter to control this behavior.\n",
      "  _warn_prf(average, modifier, msg_start, len(result))\n",
      "C:\\Users\\Aniket\\anaconda3\\lib\\site-packages\\sklearn\\metrics\\_classification.py:1344: UndefinedMetricWarning: Precision and F-score are ill-defined and being set to 0.0 in labels with no predicted samples. Use `zero_division` parameter to control this behavior.\n",
      "  _warn_prf(average, modifier, msg_start, len(result))\n",
      "C:\\Users\\Aniket\\anaconda3\\lib\\site-packages\\sklearn\\metrics\\_classification.py:1344: UndefinedMetricWarning: Precision and F-score are ill-defined and being set to 0.0 in labels with no predicted samples. Use `zero_division` parameter to control this behavior.\n",
      "  _warn_prf(average, modifier, msg_start, len(result))\n"
     ]
    }
   ],
   "source": [
    "#uni-gram\n",
    "print(\"Random Forest\")\n",
    "print(classification_report(y_test,pred))\n",
    "\n",
    "print(\"Decision Tree\")\n",
    "print(classification_report(y_test,DecisionTree))\n",
    "\n",
    "print(\"Support Vector Machine\")\n",
    "print(classification_report(y_test,y_pred))\n",
    "\n",
    "print(\"Logistic Regression\")\n",
    "print(classification_report(y_test,logisticRegresion))"
   ]
  },
  {
   "cell_type": "code",
   "execution_count": 38,
   "id": "54015c90",
   "metadata": {},
   "outputs": [],
   "source": [
    "X = df.text.astype(str)"
   ]
  },
  {
   "cell_type": "code",
   "execution_count": 39,
   "id": "154c41dd",
   "metadata": {},
   "outputs": [],
   "source": [
    "# spliting for Training-Testing \n",
    "from sklearn.model_selection import train_test_split\n",
    "X_train, X_test, y_train, y_test = train_test_split(X, y, test_size=0.3, random_state=21)"
   ]
  },
  {
   "cell_type": "markdown",
   "id": "36ab3713",
   "metadata": {},
   "source": [
    "# bi-gram for results using models "
   ]
  },
  {
   "cell_type": "code",
   "execution_count": 40,
   "id": "fb7744cb",
   "metadata": {},
   "outputs": [],
   "source": [
    "#bi-gram\n",
    "from sklearn.feature_extraction.text import TfidfVectorizer\n",
    "vectorizer = TfidfVectorizer(ngram_range=(2,2))\n",
    "\n",
    "# Training Data\n",
    "X_train = vectorizer.fit_transform(X_train)\n",
    "\n",
    "# Testing Data\n",
    "X_test = vectorizer.transform(X_test)"
   ]
  },
  {
   "cell_type": "markdown",
   "id": "7599939b",
   "metadata": {},
   "source": [
    "# Making prediction on the test set"
   ]
  },
  {
   "cell_type": "code",
   "execution_count": 41,
   "id": "0f08b7b1",
   "metadata": {},
   "outputs": [
    {
     "name": "stdout",
     "output_type": "stream",
     "text": [
      "Random Forest Result\n",
      "0.6078634247284015\n",
      "Decision Tree Result\n",
      "0.5840662183135024\n",
      "Support Vector Machine Result\n",
      "0.7046042421107087\n",
      "Logistic Regression Result\n",
      "0.6642524573202276\n"
     ]
    }
   ],
   "source": [
    "# bi-gram\n",
    "from sklearn.metrics import accuracy_score\n",
    "from sklearn.ensemble import RandomForestClassifier\n",
    "print(\"Random Forest Result\")\n",
    "rfc = RandomForestClassifier(n_estimators=100, random_state=52)\n",
    "pred = rfc.fit(X_train, y_train).predict(X_test)\n",
    "print(accuracy_score(y_test,pred))\n",
    "\n",
    "from sklearn.tree import DecisionTreeClassifier\n",
    "from sklearn.metrics import accuracy_score,classification_report\n",
    "dt = DecisionTreeClassifier(random_state=50)\n",
    "print(\"Decision Tree Result\")\n",
    "DecisionTree=dt.fit(X_train, y_train).predict(X_test)\n",
    "print(accuracy_score(y_test,DecisionTree))\n",
    "\n",
    "from sklearn.svm import SVC\n",
    "print(\"Support Vector Machine Result\")\n",
    "svm = SVC(kernel='linear', C=2.0, random_state=52)\n",
    "svm.fit(X_train,y_train)\n",
    "y_pred=svm.predict(X_test)\n",
    "print(accuracy_score(y_test,y_pred))\n",
    "\n",
    "from sklearn.linear_model import LogisticRegression\n",
    "lr=LogisticRegression()\n",
    "print(\"Logistic Regression Result\")\n",
    "logisticRegresion=lr.fit(X_train, y_train).predict(X_test)\n",
    "print(accuracy_score(y_test,logisticRegresion))\n"
   ]
  },
  {
   "cell_type": "markdown",
   "id": "08373c9f",
   "metadata": {},
   "source": [
    "# Compute Classification report"
   ]
  },
  {
   "cell_type": "code",
   "execution_count": 42,
   "id": "db99fb92",
   "metadata": {},
   "outputs": [
    {
     "name": "stdout",
     "output_type": "stream",
     "text": [
      "Random Forest\n",
      "              precision    recall  f1-score   support\n",
      "\n",
      "           0       0.00      0.00      0.00        31\n",
      "           1       0.38      0.04      0.07        77\n",
      "           2       0.76      0.58      0.66       749\n",
      "           3       0.67      0.23      0.34       272\n",
      "           4       0.53      0.93      0.68       706\n",
      "           5       0.70      0.21      0.33        98\n",
      "\n",
      "    accuracy                           0.61      1933\n",
      "   macro avg       0.51      0.33      0.35      1933\n",
      "weighted avg       0.63      0.61      0.57      1933\n",
      "\n",
      "Decision Tree\n",
      "              precision    recall  f1-score   support\n",
      "\n",
      "           0       0.15      0.06      0.09        31\n",
      "           1       0.36      0.06      0.11        77\n",
      "           2       0.73      0.59      0.65       749\n",
      "           3       0.41      0.31      0.35       272\n",
      "           4       0.57      0.81      0.67       706\n",
      "           5       0.27      0.30      0.28        98\n",
      "\n",
      "    accuracy                           0.58      1933\n",
      "   macro avg       0.42      0.35      0.36      1933\n",
      "weighted avg       0.58      0.58      0.57      1933\n",
      "\n",
      "Support Vector Machine\n",
      "              precision    recall  f1-score   support\n",
      "\n",
      "           0       0.39      0.23      0.29        31\n",
      "           1       0.40      0.08      0.13        77\n",
      "           2       0.74      0.81      0.77       749\n",
      "           3       0.65      0.35      0.46       272\n",
      "           4       0.69      0.88      0.77       706\n",
      "           5       0.67      0.29      0.40        98\n",
      "\n",
      "    accuracy                           0.70      1933\n",
      "   macro avg       0.59      0.44      0.47      1933\n",
      "weighted avg       0.69      0.70      0.68      1933\n",
      "\n",
      "Logistic Regression\n",
      "              precision    recall  f1-score   support\n",
      "\n",
      "           0       0.00      0.00      0.00        31\n",
      "           1       1.00      0.03      0.05        77\n",
      "           2       0.68      0.81      0.74       749\n",
      "           3       0.84      0.14      0.23       272\n",
      "           4       0.64      0.88      0.74       706\n",
      "           5       0.72      0.13      0.22        98\n",
      "\n",
      "    accuracy                           0.66      1933\n",
      "   macro avg       0.65      0.33      0.33      1933\n",
      "weighted avg       0.69      0.66      0.60      1933\n",
      "\n"
     ]
    },
    {
     "name": "stderr",
     "output_type": "stream",
     "text": [
      "C:\\Users\\Aniket\\anaconda3\\lib\\site-packages\\sklearn\\metrics\\_classification.py:1344: UndefinedMetricWarning: Precision and F-score are ill-defined and being set to 0.0 in labels with no predicted samples. Use `zero_division` parameter to control this behavior.\n",
      "  _warn_prf(average, modifier, msg_start, len(result))\n",
      "C:\\Users\\Aniket\\anaconda3\\lib\\site-packages\\sklearn\\metrics\\_classification.py:1344: UndefinedMetricWarning: Precision and F-score are ill-defined and being set to 0.0 in labels with no predicted samples. Use `zero_division` parameter to control this behavior.\n",
      "  _warn_prf(average, modifier, msg_start, len(result))\n",
      "C:\\Users\\Aniket\\anaconda3\\lib\\site-packages\\sklearn\\metrics\\_classification.py:1344: UndefinedMetricWarning: Precision and F-score are ill-defined and being set to 0.0 in labels with no predicted samples. Use `zero_division` parameter to control this behavior.\n",
      "  _warn_prf(average, modifier, msg_start, len(result))\n"
     ]
    }
   ],
   "source": [
    "#bi-gram\n",
    "print(\"Random Forest\")\n",
    "print(classification_report(y_test,pred))\n",
    "\n",
    "print(\"Decision Tree\")\n",
    "print(classification_report(y_test,DecisionTree))\n",
    "\n",
    "print(\"Support Vector Machine\")\n",
    "print(classification_report(y_test,y_pred))\n",
    "\n",
    "print(\"Logistic Regression\")\n",
    "print(classification_report(y_test,logisticRegresion))"
   ]
  },
  {
   "cell_type": "code",
   "execution_count": 43,
   "id": "11163295",
   "metadata": {},
   "outputs": [],
   "source": [
    "X = df.text.astype(str)"
   ]
  },
  {
   "cell_type": "code",
   "execution_count": 44,
   "id": "8eaa006f",
   "metadata": {},
   "outputs": [],
   "source": [
    "# spliting for Training-Testing \n",
    "from sklearn.model_selection import train_test_split\n",
    "X_train, X_test, y_train, y_test = train_test_split(X, y, test_size=0.3, random_state=21)"
   ]
  },
  {
   "cell_type": "markdown",
   "id": "958f9ad6",
   "metadata": {},
   "source": [
    "# Tri-gram for results using models "
   ]
  },
  {
   "cell_type": "code",
   "execution_count": 45,
   "id": "478db3bd",
   "metadata": {},
   "outputs": [],
   "source": [
    "#Tri-gram\n",
    "from sklearn.feature_extraction.text import TfidfVectorizer\n",
    "vectorizer = TfidfVectorizer(ngram_range=(3,3))\n",
    "\n",
    "# Training Data\n",
    "X_train = vectorizer.fit_transform(X_train)\n",
    "\n",
    "# Testing Data\n",
    "X_test = vectorizer.transform(X_test)"
   ]
  },
  {
   "cell_type": "markdown",
   "id": "6d12d1c6",
   "metadata": {},
   "source": [
    "# Making prediction on the test set"
   ]
  },
  {
   "cell_type": "code",
   "execution_count": 46,
   "id": "a82b0d81",
   "metadata": {},
   "outputs": [
    {
     "name": "stdout",
     "output_type": "stream",
     "text": [
      "Random Forest Result\n",
      "0.4842214174857734\n",
      "Decision Tree Result\n",
      "0.47594412829798244\n",
      "Support Vector Machine Result\n",
      "0.5328504914640455\n",
      "Logistic Regression Result\n",
      "0.4826694257630626\n"
     ]
    }
   ],
   "source": [
    "# tri-gram\n",
    "from sklearn.metrics import accuracy_score\n",
    "from sklearn.ensemble import RandomForestClassifier\n",
    "print(\"Random Forest Result\")\n",
    "rfc = RandomForestClassifier(n_estimators=100, random_state=52)\n",
    "pred = rfc.fit(X_train, y_train).predict(X_test)\n",
    "print(accuracy_score(y_test,pred))\n",
    "\n",
    "from sklearn.tree import DecisionTreeClassifier\n",
    "from sklearn.metrics import accuracy_score,classification_report\n",
    "dt = DecisionTreeClassifier(random_state=50)\n",
    "print(\"Decision Tree Result\")\n",
    "DecisionTree=dt.fit(X_train, y_train).predict(X_test)\n",
    "print(accuracy_score(y_test,DecisionTree))\n",
    "\n",
    "from sklearn.svm import SVC\n",
    "print(\"Support Vector Machine Result\")\n",
    "svm = SVC(kernel='linear', C=2.0, random_state=52)\n",
    "svm.fit(X_train,y_train)\n",
    "y_pred=svm.predict(X_test)\n",
    "print(accuracy_score(y_test,y_pred))\n",
    "\n",
    "from sklearn.linear_model import LogisticRegression\n",
    "lr=LogisticRegression()\n",
    "print(\"Logistic Regression Result\")\n",
    "logisticRegresion=lr.fit(X_train, y_train).predict(X_test)\n",
    "print(accuracy_score(y_test,logisticRegresion))\n"
   ]
  },
  {
   "cell_type": "markdown",
   "id": "de9edc02",
   "metadata": {},
   "source": [
    "# Compute Classification report"
   ]
  },
  {
   "cell_type": "code",
   "execution_count": 47,
   "id": "21ce8082",
   "metadata": {},
   "outputs": [
    {
     "name": "stdout",
     "output_type": "stream",
     "text": [
      "Random Forest\n",
      "              precision    recall  f1-score   support\n",
      "\n",
      "           0       1.00      0.03      0.06        31\n",
      "           1       0.40      0.03      0.05        77\n",
      "           2       0.67      0.34      0.45       749\n",
      "           3       0.90      0.10      0.18       272\n",
      "           4       0.43      0.91      0.58       706\n",
      "           5       0.56      0.05      0.09        98\n",
      "\n",
      "    accuracy                           0.48      1933\n",
      "   macro avg       0.66      0.24      0.24      1933\n",
      "weighted avg       0.60      0.48      0.42      1933\n",
      "\n",
      "Decision Tree\n",
      "              precision    recall  f1-score   support\n",
      "\n",
      "           0       0.12      0.10      0.11        31\n",
      "           1       0.19      0.04      0.06        77\n",
      "           2       0.68      0.32      0.43       749\n",
      "           3       0.69      0.12      0.21       272\n",
      "           4       0.43      0.90      0.58       706\n",
      "           5       0.50      0.07      0.12        98\n",
      "\n",
      "    accuracy                           0.48      1933\n",
      "   macro avg       0.43      0.26      0.25      1933\n",
      "weighted avg       0.55      0.48      0.42      1933\n",
      "\n",
      "Support Vector Machine\n",
      "              precision    recall  f1-score   support\n",
      "\n",
      "           0       0.50      0.06      0.11        31\n",
      "           1       0.31      0.05      0.09        77\n",
      "           2       0.74      0.44      0.55       749\n",
      "           3       0.80      0.16      0.26       272\n",
      "           4       0.47      0.90      0.62       706\n",
      "           5       0.28      0.15      0.20        98\n",
      "\n",
      "    accuracy                           0.53      1933\n",
      "   macro avg       0.52      0.29      0.31      1933\n",
      "weighted avg       0.60      0.53      0.49      1933\n",
      "\n",
      "Logistic Regression\n",
      "              precision    recall  f1-score   support\n",
      "\n",
      "           0       0.00      0.00      0.00        31\n",
      "           1       1.00      0.01      0.03        77\n",
      "           2       0.44      0.94      0.60       749\n",
      "           3       0.92      0.08      0.15       272\n",
      "           4       0.67      0.29      0.41       706\n",
      "           5       1.00      0.01      0.02        98\n",
      "\n",
      "    accuracy                           0.48      1933\n",
      "   macro avg       0.67      0.22      0.20      1933\n",
      "weighted avg       0.63      0.48      0.40      1933\n",
      "\n"
     ]
    },
    {
     "name": "stderr",
     "output_type": "stream",
     "text": [
      "C:\\Users\\Aniket\\anaconda3\\lib\\site-packages\\sklearn\\metrics\\_classification.py:1344: UndefinedMetricWarning: Precision and F-score are ill-defined and being set to 0.0 in labels with no predicted samples. Use `zero_division` parameter to control this behavior.\n",
      "  _warn_prf(average, modifier, msg_start, len(result))\n",
      "C:\\Users\\Aniket\\anaconda3\\lib\\site-packages\\sklearn\\metrics\\_classification.py:1344: UndefinedMetricWarning: Precision and F-score are ill-defined and being set to 0.0 in labels with no predicted samples. Use `zero_division` parameter to control this behavior.\n",
      "  _warn_prf(average, modifier, msg_start, len(result))\n",
      "C:\\Users\\Aniket\\anaconda3\\lib\\site-packages\\sklearn\\metrics\\_classification.py:1344: UndefinedMetricWarning: Precision and F-score are ill-defined and being set to 0.0 in labels with no predicted samples. Use `zero_division` parameter to control this behavior.\n",
      "  _warn_prf(average, modifier, msg_start, len(result))\n"
     ]
    }
   ],
   "source": [
    "#tri-gram\n",
    "print(\"Random Forest\")\n",
    "print(classification_report(y_test,pred))\n",
    "\n",
    "print(\"Decision Tree\")\n",
    "print(classification_report(y_test,DecisionTree))\n",
    "\n",
    "print(\"Support Vector Machine\")\n",
    "print(classification_report(y_test,y_pred))\n",
    "\n",
    "print(\"Logistic Regression\")\n",
    "print(classification_report(y_test,logisticRegresion))"
   ]
  },
  {
   "cell_type": "code",
   "execution_count": 48,
   "id": "5f16749f",
   "metadata": {},
   "outputs": [],
   "source": [
    "X = df.text.astype(str)"
   ]
  },
  {
   "cell_type": "code",
   "execution_count": 49,
   "id": "b41f38e2",
   "metadata": {},
   "outputs": [],
   "source": [
    "# spliting for Training-Testing \n",
    "from sklearn.model_selection import train_test_split\n",
    "X_train, X_test, y_train, y_test = train_test_split(X, y, test_size=0.3, random_state=21)"
   ]
  },
  {
   "cell_type": "markdown",
   "id": "19822efa",
   "metadata": {},
   "source": [
    "# n-gram for results using models "
   ]
  },
  {
   "cell_type": "code",
   "execution_count": 50,
   "id": "791476bc",
   "metadata": {},
   "outputs": [],
   "source": [
    "#n-gram\n",
    "from sklearn.feature_extraction.text import TfidfVectorizer\n",
    "vectorizer = TfidfVectorizer(ngram_range=(1,3))\n",
    "\n",
    "# Training Data\n",
    "X_train = vectorizer.fit_transform(X_train)\n",
    "\n",
    "# Testing Data\n",
    "X_test = vectorizer.transform(X_test)"
   ]
  },
  {
   "cell_type": "markdown",
   "id": "1dc78cfb",
   "metadata": {},
   "source": [
    "# Making prediction on the test set"
   ]
  },
  {
   "cell_type": "code",
   "execution_count": 51,
   "id": "e764a9e6",
   "metadata": {},
   "outputs": [
    {
     "name": "stdout",
     "output_type": "stream",
     "text": [
      "Random Forest Result\n",
      "0.7284014485256078\n",
      "Decision Tree Result\n",
      "0.6368339368856699\n",
      "Support Vector Machine Result\n",
      "0.8085876875323331\n",
      "Logistic Regression Result\n",
      "0.7444386963269529\n"
     ]
    }
   ],
   "source": [
    "# n-gram\n",
    "from sklearn.metrics import accuracy_score\n",
    "from sklearn.ensemble import RandomForestClassifier\n",
    "print(\"Random Forest Result\")\n",
    "rfc = RandomForestClassifier(n_estimators=100, random_state=52)\n",
    "pred = rfc.fit(X_train, y_train).predict(X_test)\n",
    "print(accuracy_score(y_test,pred))\n",
    "\n",
    "from sklearn.tree import DecisionTreeClassifier\n",
    "from sklearn.metrics import accuracy_score,classification_report\n",
    "dt = DecisionTreeClassifier(random_state=50)\n",
    "print(\"Decision Tree Result\")\n",
    "DecisionTree=dt.fit(X_train, y_train).predict(X_test)\n",
    "print(accuracy_score(y_test,DecisionTree))\n",
    "\n",
    "from sklearn.svm import SVC\n",
    "print(\"Support Vector Machine Result\")\n",
    "svm = SVC(kernel='linear', C=2.0, random_state=52)\n",
    "svm.fit(X_train,y_train)\n",
    "y_pred=svm.predict(X_test)\n",
    "print(accuracy_score(y_test,y_pred))\n",
    "\n",
    "from sklearn.linear_model import LogisticRegression\n",
    "lr=LogisticRegression()\n",
    "print(\"Logistic Regression Result\")\n",
    "logisticRegresion=lr.fit(X_train, y_train).predict(X_test)\n",
    "print(accuracy_score(y_test,logisticRegresion))\n"
   ]
  },
  {
   "cell_type": "markdown",
   "id": "66149dca",
   "metadata": {},
   "source": [
    "# Compute Classification report"
   ]
  },
  {
   "cell_type": "code",
   "execution_count": 52,
   "id": "62207c40",
   "metadata": {},
   "outputs": [
    {
     "name": "stdout",
     "output_type": "stream",
     "text": [
      "Decision Tree\n",
      "              precision    recall  f1-score   support\n",
      "\n",
      "           0       0.12      0.10      0.11        31\n",
      "           1       0.31      0.29      0.30        77\n",
      "           2       0.66      0.76      0.71       749\n",
      "           3       0.43      0.39      0.41       272\n",
      "           4       0.77      0.72      0.74       706\n",
      "           5       0.37      0.27      0.31        98\n",
      "\n",
      "    accuracy                           0.64      1933\n",
      "   macro avg       0.44      0.42      0.43      1933\n",
      "weighted avg       0.63      0.64      0.63      1933\n",
      "\n",
      "Random Forest\n",
      "              precision    recall  f1-score   support\n",
      "\n",
      "           0       1.00      0.03      0.06        31\n",
      "           1       0.50      0.08      0.13        77\n",
      "           2       0.65      0.91      0.76       749\n",
      "           3       0.71      0.33      0.45       272\n",
      "           4       0.84      0.86      0.85       706\n",
      "           5       0.78      0.21      0.34        98\n",
      "\n",
      "    accuracy                           0.73      1933\n",
      "   macro avg       0.75      0.40      0.43      1933\n",
      "weighted avg       0.74      0.73      0.69      1933\n",
      "\n",
      "Logistic Regression\n",
      "              precision    recall  f1-score   support\n",
      "\n",
      "           0       0.00      0.00      0.00        31\n",
      "           1       1.00      0.04      0.08        77\n",
      "           2       0.70      0.89      0.79       749\n",
      "           3       0.78      0.35      0.48       272\n",
      "           4       0.79      0.93      0.85       706\n",
      "           5       0.76      0.13      0.23        98\n",
      "\n",
      "    accuracy                           0.74      1933\n",
      "   macro avg       0.67      0.39      0.40      1933\n",
      "weighted avg       0.75      0.74      0.70      1933\n",
      "\n",
      "Support Vector Machine\n",
      "              precision    recall  f1-score   support\n",
      "\n",
      "           0       0.67      0.19      0.30        31\n",
      "           1       0.63      0.31      0.42        77\n",
      "           2       0.82      0.87      0.84       749\n",
      "           3       0.66      0.68      0.67       272\n",
      "           4       0.87      0.92      0.90       706\n",
      "           5       0.78      0.43      0.55        98\n",
      "\n",
      "    accuracy                           0.81      1933\n",
      "   macro avg       0.74      0.57      0.61      1933\n",
      "weighted avg       0.80      0.81      0.80      1933\n",
      "\n"
     ]
    },
    {
     "name": "stderr",
     "output_type": "stream",
     "text": [
      "C:\\Users\\Aniket\\anaconda3\\lib\\site-packages\\sklearn\\metrics\\_classification.py:1344: UndefinedMetricWarning: Precision and F-score are ill-defined and being set to 0.0 in labels with no predicted samples. Use `zero_division` parameter to control this behavior.\n",
      "  _warn_prf(average, modifier, msg_start, len(result))\n",
      "C:\\Users\\Aniket\\anaconda3\\lib\\site-packages\\sklearn\\metrics\\_classification.py:1344: UndefinedMetricWarning: Precision and F-score are ill-defined and being set to 0.0 in labels with no predicted samples. Use `zero_division` parameter to control this behavior.\n",
      "  _warn_prf(average, modifier, msg_start, len(result))\n",
      "C:\\Users\\Aniket\\anaconda3\\lib\\site-packages\\sklearn\\metrics\\_classification.py:1344: UndefinedMetricWarning: Precision and F-score are ill-defined and being set to 0.0 in labels with no predicted samples. Use `zero_division` parameter to control this behavior.\n",
      "  _warn_prf(average, modifier, msg_start, len(result))\n"
     ]
    }
   ],
   "source": [
    "#n-gram\n",
    "print(\"Decision Tree\")\n",
    "print(classification_report(y_test,DecisionTree))\n",
    "\n",
    "print(\"Random Forest\")\n",
    "print(classification_report(y_test,pred))\n",
    "\n",
    "print(\"Logistic Regression\")\n",
    "print(classification_report(y_test,logisticRegresion))\n",
    "\n",
    "print(\"Support Vector Machine\")\n",
    "print(classification_report(y_test,y_pred))"
   ]
  },
  {
   "cell_type": "code",
   "execution_count": null,
   "id": "cd61785f",
   "metadata": {},
   "outputs": [],
   "source": []
  }
 ],
 "metadata": {
  "kernelspec": {
   "display_name": "Python 3 (ipykernel)",
   "language": "python",
   "name": "python3"
  },
  "language_info": {
   "codemirror_mode": {
    "name": "ipython",
    "version": 3
   },
   "file_extension": ".py",
   "mimetype": "text/x-python",
   "name": "python",
   "nbconvert_exporter": "python",
   "pygments_lexer": "ipython3",
   "version": "3.10.9"
  }
 },
 "nbformat": 4,
 "nbformat_minor": 5
}
